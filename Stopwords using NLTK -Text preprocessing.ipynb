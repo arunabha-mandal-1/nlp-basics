{
  "nbformat": 4,
  "nbformat_minor": 0,
  "metadata": {
    "colab": {
      "provenance": [],
      "authorship_tag": "ABX9TyOOefpbFutVg0dPLpl9cHZy",
      "include_colab_link": true
    },
    "kernelspec": {
      "name": "python3",
      "display_name": "Python 3"
    },
    "language_info": {
      "name": "python"
    }
  },
  "cells": [
    {
      "cell_type": "markdown",
      "metadata": {
        "id": "view-in-github",
        "colab_type": "text"
      },
      "source": [
        "<a href=\"https://colab.research.google.com/github/arunabha-mandal-1/nlp-basics/blob/main/Stopwords%20using%20NLTK%20-Text%20preprocessing.ipynb\" target=\"_parent\"><img src=\"https://colab.research.google.com/assets/colab-badge.svg\" alt=\"Open In Colab\"/></a>"
      ]
    },
    {
      "cell_type": "markdown",
      "source": [
        "# Stopwords\n",
        "Stop words are common words that are not considered meaningful and are often removed from text processing tasks like natural language processing (NLP) and search engine algorithms."
      ],
      "metadata": {
        "id": "18rcYLZTT9I4"
      }
    },
    {
      "cell_type": "code",
      "execution_count": 1,
      "metadata": {
        "id": "I-nziJlCKoJO"
      },
      "outputs": [],
      "source": [
        "## Speech Of DR APJ Abdul Kalam\n",
        "paragraph = \"\"\"I have three visions for India. In 3000 years of our history, people from all over\n",
        "               the world have come and invaded us, captured our lands, conquered our minds.\n",
        "               From Alexander onwards, the Greeks, the Turks, the Moguls, the Portuguese, the British,\n",
        "               the French, the Dutch, all of them came and looted us, took over what was ours.\n",
        "               Yet we have not done this to any other nation. We have not conquered anyone.\n",
        "               We have not grabbed their land, their culture,\n",
        "               their history and tried to enforce our way of life on them.\n",
        "               Why? Because we respect the freedom of others.That is why my\n",
        "               first vision is that of freedom. I believe that India got its first vision of\n",
        "               this in 1857, when we started the War of Independence. It is this freedom that\n",
        "               we must protect and nurture and build on. If we are not free, no one will respect us.\n",
        "               My second vision for India’s development. For fifty years we have been a developing nation.\n",
        "               It is time we see ourselves as a developed nation. We are among the top 5 nations of the world\n",
        "               in terms of GDP. We have a 10 percent growth rate in most areas. Our poverty levels are falling.\n",
        "               Our achievements are being globally recognised today. Yet we lack the self-confidence to\n",
        "               see ourselves as a developed nation, self-reliant and self-assured. Isn’t this incorrect?\n",
        "               I have a third vision. India must stand up to the world. Because I believe that unless India\n",
        "               stands up to the world, no one will respect us. Only strength respects strength. We must be\n",
        "               strong not only as a military power but also as an economic power. Both must go hand-in-hand.\n",
        "               My good fortune was to have worked with three great minds. Dr. Vikram Sarabhai of the Dept. of\n",
        "               space, Professor Satish Dhawan, who succeeded him and Dr. Brahm Prakash, father of nuclear material.\n",
        "               I was lucky to have worked with all three of them closely and consider this the great opportunity of my life.\n",
        "               I see four milestones in my career\"\"\""
      ]
    },
    {
      "cell_type": "code",
      "source": [
        "from nltk.corpus import stopwords"
      ],
      "metadata": {
        "id": "vbV7IBcwK4vG"
      },
      "execution_count": 3,
      "outputs": []
    },
    {
      "cell_type": "code",
      "source": [
        "import nltk\n",
        "nltk.download('stopwords')"
      ],
      "metadata": {
        "colab": {
          "base_uri": "https://localhost:8080/",
          "height": 0
        },
        "id": "kwl1HG8RLdJ3",
        "outputId": "82e3ad1f-5f92-42b3-efdc-1f9994188159"
      },
      "execution_count": 4,
      "outputs": [
        {
          "output_type": "stream",
          "name": "stderr",
          "text": [
            "[nltk_data] Downloading package stopwords to /root/nltk_data...\n",
            "[nltk_data]   Unzipping corpora/stopwords.zip.\n"
          ]
        },
        {
          "output_type": "execute_result",
          "data": {
            "text/plain": [
              "True"
            ]
          },
          "metadata": {},
          "execution_count": 4
        }
      ]
    },
    {
      "cell_type": "code",
      "source": [
        "# All the english stopwords according to NLTK\n",
        "engStopwords = stopwords.words('english')\n",
        "for word in engStopwords:\n",
        "  print(word, end = \", \")"
      ],
      "metadata": {
        "colab": {
          "base_uri": "https://localhost:8080/",
          "height": 0
        },
        "id": "mCgdgFPNLiSt",
        "outputId": "5a6728ea-0546-46f1-a84a-442b872be526"
      },
      "execution_count": 10,
      "outputs": [
        {
          "output_type": "stream",
          "name": "stdout",
          "text": [
            "i, me, my, myself, we, our, ours, ourselves, you, you're, you've, you'll, you'd, your, yours, yourself, yourselves, he, him, his, himself, she, she's, her, hers, herself, it, it's, its, itself, they, them, their, theirs, themselves, what, which, who, whom, this, that, that'll, these, those, am, is, are, was, were, be, been, being, have, has, had, having, do, does, did, doing, a, an, the, and, but, if, or, because, as, until, while, of, at, by, for, with, about, against, between, into, through, during, before, after, above, below, to, from, up, down, in, out, on, off, over, under, again, further, then, once, here, there, when, where, why, how, all, any, both, each, few, more, most, other, some, such, no, nor, not, only, own, same, so, than, too, very, s, t, can, will, just, don, don't, should, should've, now, d, ll, m, o, re, ve, y, ain, aren, aren't, couldn, couldn't, didn, didn't, doesn, doesn't, hadn, hadn't, hasn, hasn't, haven, haven't, isn, isn't, ma, mightn, mightn't, mustn, mustn't, needn, needn't, shan, shan't, shouldn, shouldn't, wasn, wasn't, weren, weren't, won, won't, wouldn, wouldn't, "
          ]
        }
      ]
    },
    {
      "cell_type": "code",
      "source": [
        "# All the bengali stopwords according to NLTK\n",
        "bengStopwords = stopwords.words('bengali')\n",
        "for word in bengStopwords:\n",
        "  print(word, end = \", \")"
      ],
      "metadata": {
        "colab": {
          "base_uri": "https://localhost:8080/",
          "height": 0
        },
        "id": "cVRLEfO-MXBC",
        "outputId": "4aac2797-7d6b-4ba3-bcd7-930e9f333dfb"
      },
      "execution_count": 14,
      "outputs": [
        {
          "output_type": "stream",
          "name": "stdout",
          "text": [
            "অতএব, অথচ, অথবা, অনুযায়ী, অনেক, অনেকে, অনেকেই, অন্তত, অন্য, অবধি, অবশ্য, অর্থাত, আই, আগামী, আগে, আগেই, আছে, আজ, আদ্যভাগে, আপনার, আপনি, আবার, আমরা, আমাকে, আমাদের, আমার, আমি, আর, আরও, ই, ইত্যাদি, ইহা, উচিত, উত্তর, উনি, উপর, উপরে, এ, এঁদের, এঁরা, এই, একই, একটি, একবার, একে, এক্, এখন, এখনও, এখানে, এখানেই, এটা, এটাই, এটি, এত, এতটাই, এতে, এদের, এব, এবং, এবার, এমন, এমনকী, এমনি, এর, এরা, এল, এস, এসে, ঐ, ও, ওঁদের, ওঁর, ওঁরা, ওই, ওকে, ওখানে, ওদের, ওর, ওরা, কখনও, কত, কবে, কমনে, কয়েক, কয়েকটি, করছে, করছেন, করতে, করবে, করবেন, করলে, করলেন, করা, করাই, করায়, করার, করি, করিতে, করিয়া, করিয়ে, করে, করেই, করেছিলেন, করেছে, করেছেন, করেন, কাউকে, কাছ, কাছে, কাজ, কাজে, কারও, কারণ, কি, কিংবা, কিছু, কিছুই, কিন্তু, কী, কে, কেউ, কেউই, কেখা, কেন, কোটি, কোন, কোনও, কোনো, ক্ষেত্রে, কয়েক, খুব, গিয়ে, গিয়েছে, গিয়ে, গুলি, গেছে, গেল, গেলে, গোটা, চলে, চান, চায়, চার, চালু, চেয়ে, চেষ্টা, ছাড়া, ছাড়াও, ছিল, ছিলেন, জন, জনকে, জনের, জন্য, জন্যওজে, জানতে, জানা, জানানো, জানায়, জানিয়ে, জানিয়েছে, জে, জ্নজন, টি, ঠিক, তখন, তত, তথা, তবু, তবে, তা, তাঁকে, তাঁদের, তাঁর, তাঁরা, তাঁাহারা, তাই, তাও, তাকে, তাতে, তাদের, তার, তারপর, তারা, তারৈ, তাহলে, তাহা, তাহাতে, তাহার, তিনঐ, তিনি, তিনিও, তুমি, তুলে, তেমন, তো, তোমার, থাকবে, থাকবেন, থাকা, থাকায়, থাকে, থাকেন, থেকে, থেকেই, থেকেও, দিকে, দিতে, দিন, দিয়ে, দিয়েছে, দিয়েছেন, দিলেন, দু, দুই, দুটি, দুটো, দেওয়া, দেওয়ার, দেওয়া, দেখতে, দেখা, দেখে, দেন, দেয়, দ্বারা, ধরা, ধরে, ধামার, নতুন, নয়, না, নাই, নাকি, নাগাদ, নানা, নিজে, নিজেই, নিজেদের, নিজের, নিতে, নিয়ে, নিয়ে, নেই, নেওয়া, নেওয়ার, নেওয়া, নয়, পক্ষে, পর, পরে, পরেই, পরেও, পর্যন্ত, পাওয়া, পাচ, পারি, পারে, পারেন, পি, পেয়ে, পেয়্র্, প্রতি, প্রথম, প্রভৃতি, প্রযন্ত, প্রাথমিক, প্রায়, প্রায়, ফলে, ফিরে, ফের, বক্তব্য, বদলে, বন, বরং, বলতে, বলল, বললেন, বলা, বলে, বলেছেন, বলেন, বসে, বহু, বা, বাদে, বার, বি, বিনা, বিভিন্ন, বিশেষ, বিষয়টি, বেশ, বেশি, ব্যবহার, ব্যাপারে, ভাবে, ভাবেই, মতো, মতোই, মধ্যভাগে, মধ্যে, মধ্যেই, মধ্যেও, মনে, মাত্র, মাধ্যমে, মোট, মোটেই, যখন, যত, যতটা, যথেষ্ট, যদি, যদিও, যা, যাঁর, যাঁরা, যাওয়া, যাওয়ার, যাওয়া, যাকে, যাচ্ছে, যাতে, যাদের, যান, যাবে, যায়, যার, যারা, যিনি, যে, যেখানে, যেতে, যেন, যেমন, র, রকম, রয়েছে, রাখা, রেখে, লক্ষ, শুধু, শুরু, সঙ্গে, সঙ্গেও, সব, সবার, সমস্ত, সম্প্রতি, সহ, সহিত, সাধারণ, সামনে, সি, সুতরাং, সে, সেই, সেখান, সেখানে, সেটা, সেটাই, সেটাও, সেটি, স্পষ্ট, স্বয়ং, হইতে, হইবে, হইয়া, হওয়া, হওয়ায়, হওয়ার, হচ্ছে, হত, হতে, হতেই, হন, হবে, হবেন, হয়, হয়তো, হয়নি, হয়ে, হয়েই, হয়েছিল, হয়েছে, হয়েছেন, হল, হলে, হলেই, হলেও, হলো, হাজার, হিসাবে, হৈলে, হোক, হয়, "
          ]
        }
      ]
    },
    {
      "cell_type": "code",
      "source": [
        "# Using PorterStemmer\n",
        "from nltk.stem import PorterStemmer\n",
        "porterStemmer = PorterStemmer()"
      ],
      "metadata": {
        "id": "Ssxc7VFCMw0G"
      },
      "execution_count": 15,
      "outputs": []
    },
    {
      "cell_type": "code",
      "source": [
        "import nltk\n",
        "nltk.download('punkt')"
      ],
      "metadata": {
        "colab": {
          "base_uri": "https://localhost:8080/",
          "height": 0
        },
        "id": "6H9vqkJeN9VF",
        "outputId": "563de5bc-1acd-4810-fc85-b88d1067ecbc"
      },
      "execution_count": 17,
      "outputs": [
        {
          "output_type": "stream",
          "name": "stderr",
          "text": [
            "[nltk_data] Downloading package punkt to /root/nltk_data...\n",
            "[nltk_data]   Unzipping tokenizers/punkt.zip.\n"
          ]
        },
        {
          "output_type": "execute_result",
          "data": {
            "text/plain": [
              "True"
            ]
          },
          "metadata": {},
          "execution_count": 17
        }
      ]
    },
    {
      "cell_type": "code",
      "source": [
        "sentences = nltk.sent_tokenize(paragraph)"
      ],
      "metadata": {
        "id": "eGV_eVSnNivl"
      },
      "execution_count": 19,
      "outputs": []
    },
    {
      "cell_type": "code",
      "source": [
        "type(sentences)"
      ],
      "metadata": {
        "colab": {
          "base_uri": "https://localhost:8080/",
          "height": 0
        },
        "id": "D5MiUoCwOHPf",
        "outputId": "11f4d242-24a5-4575-e167-851f818fad96"
      },
      "execution_count": 20,
      "outputs": [
        {
          "output_type": "execute_result",
          "data": {
            "text/plain": [
              "list"
            ]
          },
          "metadata": {},
          "execution_count": 20
        }
      ]
    },
    {
      "cell_type": "code",
      "source": [
        "for i in range(len(sentences)):\n",
        "\n",
        "  # Tokenize in words\n",
        "  words = nltk.word_tokenize(sentences[i])\n",
        "\n",
        "  # Filter non-stopwords and apply stemming\n",
        "  words = [porterStemmer.stem(word) for word in words if word not in set(engStopwords)]\n",
        "\n",
        "  # Convert list of words into a sentence.\n",
        "  sentences[i] = ' '.join(words)"
      ],
      "metadata": {
        "id": "Mc2YUAWlOJ6R"
      },
      "execution_count": 21,
      "outputs": []
    },
    {
      "cell_type": "code",
      "source": [
        "sentences"
      ],
      "metadata": {
        "colab": {
          "base_uri": "https://localhost:8080/",
          "height": 0
        },
        "id": "jbo89JS9PEtE",
        "outputId": "f9f0d809-fdde-4243-94f3-e3279c108c62"
      },
      "execution_count": 22,
      "outputs": [
        {
          "output_type": "execute_result",
          "data": {
            "text/plain": [
              "['i three vision india .',\n",
              " 'in 3000 year histori , peopl world come invad us , captur land , conquer mind .',\n",
              " 'from alexand onward , greek , turk , mogul , portugues , british , french , dutch , came loot us , took .',\n",
              " 'yet done nation .',\n",
              " 'we conquer anyon .',\n",
              " 'we grab land , cultur , histori tri enforc way life .',\n",
              " 'whi ?',\n",
              " 'becaus respect freedom others.that first vision freedom .',\n",
              " 'i believ india got first vision 1857 , start war independ .',\n",
              " 'it freedom must protect nurtur build .',\n",
              " 'if free , one respect us .',\n",
              " 'my second vision india ’ develop .',\n",
              " 'for fifti year develop nation .',\n",
              " 'it time see develop nation .',\n",
              " 'we among top 5 nation world term gdp .',\n",
              " 'we 10 percent growth rate area .',\n",
              " 'our poverti level fall .',\n",
              " 'our achiev global recognis today .',\n",
              " 'yet lack self-confid see develop nation , self-reli self-assur .',\n",
              " 'isn ’ incorrect ?',\n",
              " 'i third vision .',\n",
              " 'india must stand world .',\n",
              " 'becaus i believ unless india stand world , one respect us .',\n",
              " 'onli strength respect strength .',\n",
              " 'we must strong militari power also econom power .',\n",
              " 'both must go hand-in-hand .',\n",
              " 'my good fortun work three great mind .',\n",
              " 'dr. vikram sarabhai dept .',\n",
              " 'space , professor satish dhawan , succeed dr. brahm prakash , father nuclear materi .',\n",
              " 'i lucki work three close consid great opportun life .',\n",
              " 'i see four mileston career']"
            ]
          },
          "metadata": {},
          "execution_count": 22
        }
      ]
    },
    {
      "cell_type": "code",
      "source": [
        "# Using SnowballStemmer\n",
        "# It makes everyword lowercase\n",
        "from nltk.stem import SnowballStemmer\n",
        "snowballStemmer = SnowballStemmer('english')"
      ],
      "metadata": {
        "id": "6kEqnHHJPIbw"
      },
      "execution_count": 38,
      "outputs": []
    },
    {
      "cell_type": "code",
      "source": [
        "sentences2 = nltk.sent_tokenize(paragraph)"
      ],
      "metadata": {
        "id": "8bwn7Q3iPyh4"
      },
      "execution_count": 39,
      "outputs": []
    },
    {
      "cell_type": "code",
      "source": [
        "for i in range(len(sentences2)):\n",
        "\n",
        "  # Tokenize in words\n",
        "  words = nltk.word_tokenize(sentences2[i])\n",
        "\n",
        "  # Filter non-stopwords and apply stemming\n",
        "  words = [snowballStemmer.stem(word) for word in words if word not in set(engStopwords)]\n",
        "\n",
        "  # Convert list of words into a sentence.\n",
        "  sentences2[i] = ' '.join(words)"
      ],
      "metadata": {
        "id": "t5yIeRXkQAnR"
      },
      "execution_count": 40,
      "outputs": []
    },
    {
      "cell_type": "code",
      "source": [
        "sentences2"
      ],
      "metadata": {
        "colab": {
          "base_uri": "https://localhost:8080/"
        },
        "id": "L66ajIyLQHFs",
        "outputId": "85fc3764-906f-4dc6-997e-162a761af3de"
      },
      "execution_count": 41,
      "outputs": [
        {
          "output_type": "execute_result",
          "data": {
            "text/plain": [
              "['i three vision india .',\n",
              " 'in 3000 year histori , peopl world come invad us , captur land , conquer mind .',\n",
              " 'from alexand onward , greek , turk , mogul , portugues , british , french , dutch , came loot us , took .',\n",
              " 'yet done nation .',\n",
              " 'we conquer anyon .',\n",
              " 'we grab land , cultur , histori tri enforc way life .',\n",
              " 'whi ?',\n",
              " 'becaus respect freedom others.that first vision freedom .',\n",
              " 'i believ india got first vision 1857 , start war independ .',\n",
              " 'it freedom must protect nurtur build .',\n",
              " 'if free , one respect us .',\n",
              " 'my second vision india ’ develop .',\n",
              " 'for fifti year develop nation .',\n",
              " 'it time see develop nation .',\n",
              " 'we among top 5 nation world term gdp .',\n",
              " 'we 10 percent growth rate area .',\n",
              " 'our poverti level fall .',\n",
              " 'our achiev global recognis today .',\n",
              " 'yet lack self-confid see develop nation , self-reli self-assur .',\n",
              " 'isn ’ incorrect ?',\n",
              " 'i third vision .',\n",
              " 'india must stand world .',\n",
              " 'becaus i believ unless india stand world , one respect us .',\n",
              " 'onli strength respect strength .',\n",
              " 'we must strong militari power also econom power .',\n",
              " 'both must go hand-in-hand .',\n",
              " 'my good fortun work three great mind .',\n",
              " 'dr. vikram sarabhai dept .',\n",
              " 'space , professor satish dhawan , succeed dr. brahm prakash , father nuclear materi .',\n",
              " 'i lucki work three close consid great opportun life .',\n",
              " 'i see four mileston career']"
            ]
          },
          "metadata": {},
          "execution_count": 41
        }
      ]
    },
    {
      "cell_type": "code",
      "source": [
        "snowballStemmer.stem('correctly')"
      ],
      "metadata": {
        "colab": {
          "base_uri": "https://localhost:8080/",
          "height": 36
        },
        "id": "9cplGlQjRwsk",
        "outputId": "8f4c95f0-dfe9-425c-de33-ec47c6e899da"
      },
      "execution_count": 45,
      "outputs": [
        {
          "output_type": "execute_result",
          "data": {
            "text/plain": [
              "'correct'"
            ],
            "application/vnd.google.colaboratory.intrinsic+json": {
              "type": "string"
            }
          },
          "metadata": {},
          "execution_count": 45
        }
      ]
    },
    {
      "cell_type": "code",
      "source": [
        "# Using Lemmatization\n",
        "from nltk.stem import WordNetLemmatizer\n",
        "lemmatizer = WordNetLemmatizer()"
      ],
      "metadata": {
        "id": "_bJ2wShrRoWd"
      },
      "execution_count": 46,
      "outputs": []
    },
    {
      "cell_type": "code",
      "source": [
        "nltk.download('wordnet')"
      ],
      "metadata": {
        "colab": {
          "base_uri": "https://localhost:8080/"
        },
        "id": "1w-o1rDOSWem",
        "outputId": "b00bf084-55d9-4530-9767-3ac8e038fd1d"
      },
      "execution_count": 47,
      "outputs": [
        {
          "output_type": "stream",
          "name": "stderr",
          "text": [
            "[nltk_data] Downloading package wordnet to /root/nltk_data...\n"
          ]
        },
        {
          "output_type": "execute_result",
          "data": {
            "text/plain": [
              "True"
            ]
          },
          "metadata": {},
          "execution_count": 47
        }
      ]
    },
    {
      "cell_type": "code",
      "source": [
        "sentences3 = nltk.sent_tokenize(paragraph)"
      ],
      "metadata": {
        "id": "25GNw5dMTCCJ"
      },
      "execution_count": 52,
      "outputs": []
    },
    {
      "cell_type": "code",
      "source": [
        "for i in range(len(sentences3)):\n",
        "\n",
        "  # Tokenize in words\n",
        "  words = nltk.word_tokenize(sentences3[i])\n",
        "\n",
        "  # Filter non-stopwords and apply lemmatization\n",
        "  words = [lemmatizer.lemmatize(word.lower(), pos = 'v') for word in words if word not in set(engStopwords)]\n",
        "\n",
        "  # Convert list of words into a sentence.\n",
        "  sentences3[i] = ' '.join(words)"
      ],
      "metadata": {
        "id": "NzaBp7pTSfaI"
      },
      "execution_count": 57,
      "outputs": []
    },
    {
      "cell_type": "code",
      "source": [
        "sentences3"
      ],
      "metadata": {
        "colab": {
          "base_uri": "https://localhost:8080/"
        },
        "id": "uxQbV8lrTV6O",
        "outputId": "a9046bd1-7cbd-4a73-8688-6e4394841ba8"
      },
      "execution_count": 58,
      "outputs": [
        {
          "output_type": "execute_result",
          "data": {
            "text/plain": [
              "['i three vision india .',\n",
              " 'in 3000 year history , people world come invade u , capture land , conquer mind .',\n",
              " 'from alexander onwards , greeks , turks , moguls , portuguese , british , french , dutch , come loot u , take .',\n",
              " 'yet do nation .',\n",
              " 'we conquer anyone .',\n",
              " 'we grab land , culture , history try enforce way life .',\n",
              " 'why ?',\n",
              " 'because respect freedom others.that first vision freedom .',\n",
              " 'i believe india get first vision 1857 , start war independence .',\n",
              " 'it freedom must protect nurture build .',\n",
              " 'if free , one respect u .',\n",
              " 'my second vision india ’ development .',\n",
              " 'for fifty year develop nation .',\n",
              " 'it time see develop nation .',\n",
              " 'we among top 5 nation world term gdp .',\n",
              " 'we 10 percent growth rate area .',\n",
              " 'our poverty level fall .',\n",
              " 'our achievement globally recognise today .',\n",
              " 'yet lack self-confidence see develop nation , self-reliant self-assured .',\n",
              " 'isn ’ incorrect ?',\n",
              " 'i third vision .',\n",
              " 'india must stand world .',\n",
              " 'because i believe unless india stand world , one respect u .',\n",
              " 'only strength respect strength .',\n",
              " 'we must strong military power also economic power .',\n",
              " 'both must go hand-in-hand .',\n",
              " 'my good fortune work three great mind .',\n",
              " 'dr. vikram sarabhai dept .',\n",
              " 'space , professor satish dhawan , succeed dr. brahm prakash , father nuclear material .',\n",
              " 'i lucky work three closely consider great opportunity life .',\n",
              " 'i see four milestone career']"
            ]
          },
          "metadata": {},
          "execution_count": 58
        }
      ]
    }
  ]
}